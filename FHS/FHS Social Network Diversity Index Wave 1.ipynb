{
 "cells": [
  {
   "cell_type": "markdown",
   "id": "9512c401",
   "metadata": {},
   "source": [
    "### Social Network Analysis\n",
    "##### Combine new variables and create diversity indices\n",
    "##### Aug 30, 2021"
   ]
  },
  {
   "cell_type": "markdown",
   "id": "753251d6",
   "metadata": {},
   "source": [
    "### Notes as of 11/10/2021:\n",
    "- just keep shannon"
   ]
  },
  {
   "cell_type": "code",
   "execution_count": 80,
   "id": "c361311e",
   "metadata": {},
   "outputs": [],
   "source": [
    "import os\n",
    "import pandas as pd\n",
    "import numpy as np\n",
    "from math import log as ln\n",
    "import networkx as nx\n",
    "from pyvis.network import Network\n",
    "import matplotlib.pyplot as plt"
   ]
  },
  {
   "cell_type": "code",
   "execution_count": 81,
   "id": "320247fc",
   "metadata": {},
   "outputs": [],
   "source": [
    "pd.set_option('display.max_columns',None)\n",
    "pd.set_option('display.max_colwidth', None)"
   ]
  },
  {
   "cell_type": "code",
   "execution_count": 82,
   "id": "c8be460c",
   "metadata": {},
   "outputs": [
    {
     "name": "stderr",
     "output_type": "stream",
     "text": [
      "/usr/local/lib/python3.9/site-packages/pandas/io/sas/sas7bdat.py:800: PerformanceWarning: DataFrame is highly fragmented.  This is usually the result of calling `frame.insert` many times, which has poor performance.  Consider joining all columns at once using pd.concat(axis=1) instead.  To get a de-fragmented frame, use `newframe = frame.copy()`\n",
      "  rslt[name] = self._byte_chunk[jb, :].view(dtype=self.byte_order + \"d\")\n",
      "/usr/local/lib/python3.9/site-packages/pandas/io/sas/sas7bdat.py:809: PerformanceWarning: DataFrame is highly fragmented.  This is usually the result of calling `frame.insert` many times, which has poor performance.  Consider joining all columns at once using pd.concat(axis=1) instead.  To get a de-fragmented frame, use `newframe = frame.copy()`\n",
      "  rslt[name] = self._string_chunk[js, :]\n"
     ]
    }
   ],
   "source": [
    "df = pd.read_sas('vr_sntwk_2008_m_0641s_v2_16.sas7bdat',format = 'sas7bdat', encoding=\"unicode_escape\")\n",
    "demo_df = pd.read_sas('vr_wkthru_ex09_1_1001s_16.sas7bdat',format = 'sas7bdat', encoding=\"unicode_escape\")\n",
    "apoe_df = pd.read_sas('coh_off_apoe_16.sas7bdat',format = 'sas7bdat', encoding=\"unicode_escape\")\n",
    "ex_df = pd.read_sas('ex1_7s_v2_16.sas7bdat',format = 'sas7bdat', encoding=\"unicode_escape\",index='idr')\n",
    "ed_df = pd.read_sas('vr_np_2018_a_1185s_19.sas7bdat',format = 'sas7bdat', encoding=\"unicode_escape\")\n"
   ]
  },
  {
   "cell_type": "markdown",
   "id": "6357b239",
   "metadata": {},
   "source": [
    "### Prepare dfs"
   ]
  },
  {
   "cell_type": "code",
   "execution_count": 83,
   "id": "844a1946",
   "metadata": {},
   "outputs": [],
   "source": [
    "ed_df['idr'] = ed_df['idr'].astype(int).astype(str)\n",
    "ed_df = ed_df.groupby('idr',as_index=False).first()\n",
    "ed_df['EDU_COLLEGE'] = ed_df['EDUCG'].apply(lambda x: 'Some college' if x>1 else 'No college')\n",
    "ed_df['EDU_HS'] = ed_df['EDUCG'].apply(lambda x: 'HS grad' if x>=1 else 'No HS')\n",
    "\n",
    "ed_df = ed_df[['idr','EDUCG','EDU_COLLEGE','EDU_HS']]"
   ]
  },
  {
   "cell_type": "code",
   "execution_count": 84,
   "id": "6af05f2e",
   "metadata": {},
   "outputs": [
    {
     "data": {
      "text/plain": [
       "Some college    4633\n",
       "No college      2699\n",
       "Name: EDU_COLLEGE, dtype: int64"
      ]
     },
     "execution_count": 84,
     "metadata": {},
     "output_type": "execute_result"
    }
   ],
   "source": [
    "ed_df['EDU_COLLEGE'].value_counts()"
   ]
  },
  {
   "cell_type": "code",
   "execution_count": 85,
   "id": "11c72939",
   "metadata": {},
   "outputs": [],
   "source": [
    "ex_df = ex_df.iloc[:,446:509].reset_index()\n",
    "ex_df['idr'] = ex_df['idr'].astype(int).astype(str)"
   ]
  },
  {
   "cell_type": "code",
   "execution_count": 86,
   "id": "3e9a38bf",
   "metadata": {},
   "outputs": [],
   "source": [
    "apoe_df['idr'] = apoe_df['idr'].astype(int).astype(str)\n",
    "apoe_df['APOE4'] = apoe_df['APOE'].apply(lambda x: '+' if x in [34,24, 44] else ('-' if x not in [34,24,44] else x))"
   ]
  },
  {
   "cell_type": "code",
   "execution_count": 87,
   "id": "15cca3b2",
   "metadata": {},
   "outputs": [],
   "source": [
    "age_cols = [x for x in demo_df.columns if \"AGE\" in x]\n",
    "demo_df = demo_df[['idr','SEX']+age_cols]\n",
    "demo_df['idr'] = demo_df['idr'].astype(int).astype(str)"
   ]
  },
  {
   "cell_type": "markdown",
   "id": "886a5987",
   "metadata": {},
   "source": [
    "### Select Wave 1"
   ]
  },
  {
   "cell_type": "code",
   "execution_count": 88,
   "id": "743be61b",
   "metadata": {},
   "outputs": [],
   "source": [
    "w1 = df[(df['idtype']==1) & \n",
    "    ((df['alteridtype']==0)&(df['SPELLBEGIN']<29) | (df['alteridtype']==1) & (df['SPELLBEGIN']<44)) &\n",
    "    (df['SPELLEND']>44)].reset_index(drop=True)\n",
    "w1[['idr','sharealterid']] = w1[['idr','sharealterid']].astype(int).astype(str)"
   ]
  },
  {
   "cell_type": "code",
   "execution_count": 89,
   "id": "a96e0a68",
   "metadata": {},
   "outputs": [],
   "source": [
    "w1['RELTYPE'] = w1['ALTERTYPE'].apply(lambda x: 'NONRELATIVE' if 'NR' in x else 'RELATIVE' )\n",
    "w1_df = w1.groupby(['idr','sharealterid','RELTYPE'],as_index=False).first()"
   ]
  },
  {
   "cell_type": "code",
   "execution_count": 90,
   "id": "897effa2",
   "metadata": {},
   "outputs": [],
   "source": [
    "w1_df['FAMILIAL']=w1_df['RELTYPE']"
   ]
  },
  {
   "cell_type": "code",
   "execution_count": null,
   "id": "45d64e99",
   "metadata": {},
   "outputs": [],
   "source": [
    "w1_df['DISTMI1']"
   ]
  },
  {
   "cell_type": "markdown",
   "id": "5d5eec8d",
   "metadata": {},
   "source": [
    "#### Lots of duplicates, probably from ego/alter ties fulfilling the criteria for multiple categories. Drop duplicates, only keeping first entry for now\n",
    "#### TO DO: should keep closest tie category "
   ]
  },
  {
   "cell_type": "code",
   "execution_count": 91,
   "id": "7d0602c8",
   "metadata": {},
   "outputs": [],
   "source": [
    "comb_df = w1_df.merge(demo_df,on='idr',how='left').merge(ex_df,on='idr',how='left').merge(ed_df,on='idr',how='left').merge(apoe_df.drop('idtype',axis=1),on='idr',how='left')"
   ]
  },
  {
   "cell_type": "code",
   "execution_count": 92,
   "id": "8e4680db",
   "metadata": {},
   "outputs": [],
   "source": [
    "comb_df['AGE35']= comb_df['AGE1'].apply(lambda x: 0 if x<35 else 1)\n",
    "comb_df['AGE65']= comb_df['AGE1'].apply(lambda x: 0 if x<65 else 1)\n",
    "comb_df['AGE_Q']= pd.cut(comb_df['AGE1'],4)\n",
    "comb_df['AGE_10']= pd.cut(comb_df['AGE1'],range(0,110,10),labels=['<=10','<=20','<=30','<=40','<=50',\n",
    "                                                              '<=60','<=70','<=80','<=90','<=100'])"
   ]
  },
  {
   "cell_type": "markdown",
   "id": "9e147d36",
   "metadata": {},
   "source": [
    "CES-D: G587-G606\n",
    "\n",
    "Loneliness : G600\n",
    "\n",
    "SNI: G645-G657"
   ]
  },
  {
   "cell_type": "code",
   "execution_count": 93,
   "id": "68f2a406",
   "metadata": {},
   "outputs": [],
   "source": [
    "comb_df['CESD_TOT'] = comb_df.loc[:,'G587':'G606'].apply(lambda x: sum(x),axis=1)\n",
    "comb_df['CESD_16'] = comb_df['CESD_TOT'].apply(lambda x: '>=16' if x>=16 else ('<16' if x<16 else x))\n",
    "comb_df['CESD_20'] = comb_df['CESD_TOT'].apply(lambda x: '>=20' if x>=20 else ('<20' if x<20 else x))"
   ]
  },
  {
   "cell_type": "code",
   "execution_count": 94,
   "id": "dff6888c",
   "metadata": {},
   "outputs": [],
   "source": [
    "comb_df['CESD_LONELINESS'] = comb_df['G600']\n",
    "comb_df['LONELY_3'] = comb_df['CESD_LONELINESS'].apply(lambda x: '>=3' if x>=2 else ('<3' if x<3 else x))"
   ]
  },
  {
   "cell_type": "code",
   "execution_count": 95,
   "id": "2c838ee2",
   "metadata": {},
   "outputs": [],
   "source": [
    "comb_df['SNI_TOT'] = comb_df.loc[:,'G645':'G657'].apply(lambda x: sum(x),axis=1)\n",
    "comb_df['SNI_2'] = comb_df['SNI_TOT'].apply(lambda x: '>2' if x>2 else ('<=2' if x<=2 else x))"
   ]
  },
  {
   "cell_type": "code",
   "execution_count": null,
   "id": "2221c10d",
   "metadata": {},
   "outputs": [],
   "source": [
    "### CHOSE DISTANCE CATEGORY"
   ]
  },
  {
   "cell_type": "code",
   "execution_count": 125,
   "id": "0b817ccf",
   "metadata": {},
   "outputs": [],
   "source": [
    "comb_df['DIST1_5'] = comb_df['DISTMI1'].apply(lambda x: 'NEAR' if x<= 5 else 'Far')\n",
    "comb_df['DIST7_5'] = comb_df['DISTMI7'].apply(lambda x: 'NEAR' if x<= 5 else 'Far')"
   ]
  },
  {
   "cell_type": "code",
   "execution_count": 126,
   "id": "b3f3329e",
   "metadata": {},
   "outputs": [],
   "source": [
    "# [(c,comb_df[c].isna().sum()) for c in comb_df.columns if comb_df[c].isna().sum()>0]"
   ]
  },
  {
   "cell_type": "markdown",
   "id": "b80a3867",
   "metadata": {},
   "source": [
    "### Create Diversity Index"
   ]
  },
  {
   "cell_type": "code",
   "execution_count": 127,
   "id": "8b4be94b",
   "metadata": {},
   "outputs": [],
   "source": [
    "def create_ratio(df,attr,val):\n",
    "    ratio_list = []\n",
    "    ego_list = df['idr'].unique()\n",
    "\n",
    "    for e in ego_list:\n",
    "        ego_df = df[df['idr']==e]\n",
    "        alter_list = ego_df['sharealterid'].unique()  \n",
    "        net_df = df[df['idr'].isin(alter_list)].groupby(['idr'],as_index=False).first()\n",
    "        div_dict = dict(net_df[attr].value_counts())\n",
    "        \n",
    "        if val in div_dict:\n",
    "            ratio = float(div_dict[val]/sum(div_dict.values()))\n",
    "            ratio_list.append(ratio)\n",
    "        else:\n",
    "            ratio_list.append(0)\n",
    "            \n",
    "    res_df = pd.DataFrame({'idr':ego_list,(attr+'_'+str(val)+'_RATIO'):ratio_list})\n",
    "\n",
    "    return res_df\n",
    "        "
   ]
  },
  {
   "cell_type": "code",
   "execution_count": null,
   "id": "d97d7b86",
   "metadata": {},
   "outputs": [],
   "source": [
    "### NEED TO ADD DISTANCE info\n",
    "ratio_df = pd.DataFrame({'idr':comb_df['idr'].unique()})\n",
    "for attr,val in [('FAMILIAL','RELATIVE'),('APOE4','+'),('DIST1_5','NEAR'),('DIST7_5','NEAR')]:\n",
    "    temp = create_ratio(comb_df,attr,val)\n",
    "    ratio_df = ratio_df.merge(temp,on='idr',how='left')"
   ]
  },
  {
   "cell_type": "code",
   "execution_count": null,
   "id": "307e7ced",
   "metadata": {},
   "outputs": [],
   "source": [
    "ratio_df"
   ]
  },
  {
   "cell_type": "code",
   "execution_count": null,
   "id": "bcab73b3",
   "metadata": {},
   "outputs": [],
   "source": [
    "#individual network indices\n",
    "#TO DO : get rid of for loop\n",
    "\n",
    "def create_diversity_index(df,attr):\n",
    "    shannon_list = []\n",
    "#     simpson_list = []\n",
    "    ego_list = df['idr'].unique()\n",
    "    \n",
    "    for e in ego_list:\n",
    "        #select network\n",
    "        ego_df = df[df['idr']==e]\n",
    "        alter_list = ego_df['sharealterid'].unique()\n",
    "        #get network info using alters 'ego' attributes\n",
    "        net_df = df[df['idr'].isin(alter_list)].groupby(['idr'],as_index=False).first()\n",
    "        div_dict = dict(net_df[attr].value_counts())\n",
    "\n",
    "        #NA if no tie info\n",
    "        if div_dict:\n",
    "        \n",
    "        #shannon index\n",
    "            shannon_h = 0\n",
    "            for cat in div_dict:\n",
    "                p = float(div_dict[cat]/sum(div_dict.values()))\n",
    "                temp = float(p*(np.log(p)))\n",
    "                if np.isfinite(temp):\n",
    "                    shannon_h += temp      \n",
    "            if shannon_h < 0:\n",
    "                shannon_h = -(shannon_h)\n",
    "            shannon_list.append(shannon_h)\n",
    "        \n",
    "        \n",
    "        #simpson index\n",
    "#             simpson_d = 0\n",
    "#             for cat in div_dict:\n",
    "#                 p = float(div_dict[cat]/sum(div_dict.values()))\n",
    "#                 temp = float(p**2)\n",
    "#                 simpson_d+= temp\n",
    "#             simpson_d = 1 - simpson_d\n",
    "#             simpson_list.append(simpson_d)\n",
    "\n",
    "        \n",
    "        else:\n",
    "            shannon_list.append(np.nan)\n",
    "#             simpson_list.append(np.nan)\n",
    "\n",
    "#     new_df = pd.DataFrame({'idr':ego_list,(attr+'_SHANNON'):shannon_list,(attr+'_SIMPSON'):simpson_list})\n",
    "    new_df = pd.DataFrame({'idr':ego_list,(attr+'_SHANNON'):shannon_list})\n",
    "\n",
    "    return new_df\n",
    "    "
   ]
  },
  {
   "cell_type": "code",
   "execution_count": null,
   "id": "9245fda2",
   "metadata": {},
   "outputs": [],
   "source": [
    "div_df= pd.DataFrame({'idr':comb_df['idr'].unique()})\n",
    "for col in ['SEX','RELTYPE','ALTERTYPE','AGE35','AGE65','AGE_Q','AGE_10','SNI_TOT','SNI_2','EDU_COLLEGE','EDU_HS']:\n",
    "    temp = create_diversity_index(comb_df,col)\n",
    "    div_df = div_df.merge(temp,on='idr',how='left')"
   ]
  },
  {
   "cell_type": "code",
   "execution_count": null,
   "id": "6f25daec",
   "metadata": {},
   "outputs": [],
   "source": [
    "## TO DO: check if these egos really dont have alters\n",
    "div_df.isna().sum()"
   ]
  },
  {
   "cell_type": "code",
   "execution_count": null,
   "id": "d6fa41ca",
   "metadata": {},
   "outputs": [],
   "source": [
    "div_df.shape"
   ]
  },
  {
   "cell_type": "code",
   "execution_count": null,
   "id": "3412e77c",
   "metadata": {
    "scrolled": true
   },
   "outputs": [],
   "source": [
    "div_df.describe()"
   ]
  },
  {
   "cell_type": "code",
   "execution_count": null,
   "id": "f98d08f5",
   "metadata": {},
   "outputs": [],
   "source": [
    "export_df = comb_df[['idr',\n",
    "                     'AGE35',\n",
    "                     'AGE65',\n",
    "                     'AGE_Q',\n",
    "                     'AGE_10',\n",
    "                     'sharealterid',\n",
    "                     'RELTYPE',\n",
    "                     'FAMILIAL',\n",
    "                     'ALTERTYPE',\n",
    "                     'SEX',\n",
    "                     'AGE1',\n",
    "                     'idtype',\n",
    "                     'alteridtype',\n",
    "                     'SPELLBEGIN',\n",
    "                     'SPELLEND',\n",
    "                     'APOE',\n",
    "                     'EDUCG',\n",
    "                     'CESD_TOT',\n",
    "                     'CESD_16',\n",
    "                     'CESD_20',\n",
    "                     'CESD_LONELINESS',\n",
    "                     'LONELY_3',\n",
    "                     'SNI_TOT',\n",
    "                     'SNI_2',\n",
    "                     'DIST1_5',\n",
    "                     'DIST7_5'\n",
    "                    ]].merge(div_df,on='idr').merge(ratio_df,on='idr')"
   ]
  },
  {
   "cell_type": "code",
   "execution_count": null,
   "id": "72d5576d",
   "metadata": {},
   "outputs": [],
   "source": [
    "export_df.groupby('idr',as_index=False).first()"
   ]
  },
  {
   "cell_type": "code",
   "execution_count": null,
   "id": "5bbc81cc",
   "metadata": {},
   "outputs": [],
   "source": [
    "#to share\n",
    "export_df.to_csv('fhs_sn_diversity_wave1.csv')"
   ]
  },
  {
   "cell_type": "code",
   "execution_count": null,
   "id": "721c2dd5",
   "metadata": {},
   "outputs": [],
   "source": []
  },
  {
   "cell_type": "code",
   "execution_count": null,
   "id": "5fec68b2",
   "metadata": {},
   "outputs": [],
   "source": []
  }
 ],
 "metadata": {
  "kernelspec": {
   "display_name": "Python 3 (ipykernel)",
   "language": "python",
   "name": "python3"
  },
  "language_info": {
   "codemirror_mode": {
    "name": "ipython",
    "version": 3
   },
   "file_extension": ".py",
   "mimetype": "text/x-python",
   "name": "python",
   "nbconvert_exporter": "python",
   "pygments_lexer": "ipython3",
   "version": "3.9.6"
  }
 },
 "nbformat": 4,
 "nbformat_minor": 5
}
